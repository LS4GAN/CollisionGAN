{
 "cells": [
  {
   "cell_type": "markdown",
   "metadata": {},
   "source": [
    "# Patch Discriminator"
   ]
  },
  {
   "cell_type": "code",
   "execution_count": null,
   "metadata": {},
   "outputs": [],
   "source": [
    "import torch.nn as nn"
   ]
  },
  {
   "cell_type": "code",
   "execution_count": null,
   "metadata": {},
   "outputs": [],
   "source": [
    "class NLayerDiscriminator(nn.Module):\n",
    "    \"\"\"\n",
    "    'PatchGAN' classifier described in the original pix2pix paper.\n",
    "    It can classify whether 70×70 overlapping patches are real or fake.\n",
    "    Such a patch-level discriminator architecture has fewer parameters\n",
    "    than a full-image discriminator and can work on arbitrarily-sized images\n",
    "    in a fully convolutional fashion.\n",
    "    \"\"\"\n",
    "    def __init__(self, input_nc, ndf=64, n_layers=3, norm_layer=nn.InstanceNorm2d):\n",
    "        \"\"\"\n",
    "        Construct a PatchGAN discriminator\n",
    "        \n",
    "        Parameters:\n",
    "            1. input_nc (int): the number of channels in input images\n",
    "            2. ndf (int): the number filters\n",
    "            3. n_layers (int): the number of conv layers in the discriminator\n",
    "            4. norm_layer (nn.Module): normalization layer \n",
    "        \"\"\"\n",
    "        super(NLayerDiscriminator, self).__init__()\n",
    "        use_bias = (norm_layer == nn.InstanceNorm2d)\n",
    "    \n",
    "        kernel_size = 4\n",
    "        padding = 1\n",
    "        \n",
    "        # Leading Conv\n",
    "        sequence = [\n",
    "            nn.Conv2d(input_nc, ndf, kernel_size=kernel_size, stride=2, padding=padding),\n",
    "            nn.LeakyReLU(.2, True)\n",
    "        ]\n",
    "        \n",
    "        # gradually increase the number of filters and decrease the dimension of the image\n",
    "        mult_i = 1\n",
    "        for n in range(n_layers):\n",
    "            mult_o = min(mult_i * 2, 8)\n",
    "            ic, oc = ndf * mult_i, ndf * mult_o\n",
    "            sequence += [\n",
    "                nn.Conv2d(\n",
    "                    ic, oc, \n",
    "                    kernel_size=kernel_size, \n",
    "                    stride=2, \n",
    "                    padding=padding, \n",
    "                    bias=use_biase),\n",
    "                norm_layer(oc),\n",
    "                nn.LeakyReLU(.2, True)\n",
    "            ]\n",
    "            mult_i = mult_o\n",
    "        \n",
    "        \n",
    "        mult_o = min(mult_i * 2, 8)\n",
    "        ic, oc = ndf * mult_i, ndf * mult_o\n",
    "        sequence += [\n",
    "            nn.Conv2d(ic, oc, kernel_size=kernel_size, stride=1, padding=padding, bias=use_biase),\n",
    "            norm_layer(oc),\n",
    "            nn.LeakyReLU(.2, True)\n",
    "        ]\n",
    "        \n",
    "        sequence += [nn.Conv2d(oc, 1, kernel_size=kernel_size, stride=1, padding=padding)]\n",
    "        \n",
    "        self.model = nn.Sequential(*sequence)\n",
    "        \n",
    "    def forward(self, x):\n",
    "        return self.model(x)"
   ]
  }
 ],
 "metadata": {
  "kernelspec": {
   "display_name": "yi_test",
   "language": "python",
   "name": "yi_test"
  },
  "language_info": {
   "codemirror_mode": {
    "name": "ipython",
    "version": 3
   },
   "file_extension": ".py",
   "mimetype": "text/x-python",
   "name": "python",
   "nbconvert_exporter": "python",
   "pygments_lexer": "ipython3",
   "version": "3.9.1"
  }
 },
 "nbformat": 4,
 "nbformat_minor": 4
}
