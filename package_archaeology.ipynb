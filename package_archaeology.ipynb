{
 "cells": [
  {
   "cell_type": "code",
   "execution_count": 73,
   "metadata": {},
   "outputs": [],
   "source": [
    "from subprocess import check_output\n",
    "import pandas as pd\n",
    "df = pd.read_csv('/sdcc/u/yhuang2/PROJs/python_packages', sep='\\s+', comment='#', index_col=0)"
   ]
  },
  {
   "cell_type": "code",
   "execution_count": 74,
   "metadata": {},
   "outputs": [],
   "source": [
    "def parse_import(content):\n",
    "    lines = content.split('\\n')\n",
    "    packages = []\n",
    "    for line in lines:\n",
    "        line = line.strip().replace('\\\"', '').replace('\\\\n', '').replace(',', ' ')\n",
    "        if '#' in line or len(line) == 0:\n",
    "            continue\n",
    "        # lines_processed.append(line)\n",
    "        \n",
    "        tokens = line.split()\n",
    "        \n",
    "        if 'from' in tokens:\n",
    "            package = tokens[tokens.index('from') + 1]\n",
    "        else:\n",
    "            package = tokens[tokens.index('import') + 1]\n",
    "            \n",
    "        package = package.split('.')[0]\n",
    "        packages.append(package)\n",
    "        \n",
    "    return packages"
   ]
  },
  {
   "cell_type": "code",
   "execution_count": 75,
   "metadata": {},
   "outputs": [],
   "source": [
    "fnames = ['cycleGan.ipynb', 'models/base_model.py', 'models/alexnet.py', 'models/resnet.py', 'utils/network.py']\n",
    "\n",
    "packages_all = []\n",
    "for fname in fnames:\n",
    "    # print(f'\\n{fname}')\n",
    "    cmd = f\"grep \\\"import\\\" {fname}\"\n",
    "    output = check_output(cmd, shell=True).decode('utf-8')\n",
    "    # print(output)\n",
    "    packages = parse_import(output)\n",
    "#     for i, package in enumerate(packages):\n",
    "#         print(f'\\t{i}, {package}')\n",
    "        \n",
    "    packages_all += packages"
   ]
  },
  {
   "cell_type": "code",
   "execution_count": 113,
   "metadata": {},
   "outputs": [
    {
     "name": "stdout",
     "output_type": "stream",
     "text": [
      "numpy, 1.20.2\n",
      "torch, 1.8.1\n"
     ]
    }
   ],
   "source": [
    "packages_all = set(packages_all)\n",
    "for package in packages_all:\n",
    "    try:\n",
    "        version = df.loc[package, 'Version']\n",
    "        print(f'{package}, {version}')\n",
    "    except:\n",
    "        continue"
   ]
  }
 ],
 "metadata": {
  "kernelspec": {
   "display_name": "yi_test",
   "language": "python",
   "name": "yi_test"
  },
  "language_info": {
   "codemirror_mode": {
    "name": "ipython",
    "version": 3
   },
   "file_extension": ".py",
   "mimetype": "text/x-python",
   "name": "python",
   "nbconvert_exporter": "python",
   "pygments_lexer": "ipython3",
   "version": "3.9.1"
  }
 },
 "nbformat": 4,
 "nbformat_minor": 4
}
