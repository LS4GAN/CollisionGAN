{
 "cells": [
  {
   "cell_type": "code",
   "execution_count": 1,
   "metadata": {},
   "outputs": [],
   "source": [
    "import sys\n",
    "from datetime import datetime\n",
    "import numpy as np\n",
    "import pandas as pd\n",
    "import scipy.stats as ss\n",
    "from pathlib import Path\n",
    "import dill\n",
    "import matplotlib\n",
    "import matplotlib.pyplot as plt\n",
    "import matplotlib.colors as mcolors\n",
    "from mpl_toolkits.axes_grid1 import make_axes_locatable\n",
    "%matplotlib inline\n",
    "import seaborn as sns"
   ]
  },
  {
   "cell_type": "code",
   "execution_count": 2,
   "metadata": {},
   "outputs": [],
   "source": [
    "%load_ext autoreload\n",
    "%autoreload 2\n",
    "\n",
    "util_path = '/sdcc/u/yhuang2/PROJs/EICLDRD/utils'\n",
    "assert Path(util_path).exists()\n",
    "if util_path not in sys.path:\n",
    "    sys.path.append(util_path)\n",
    "\n",
    "# printing with style\n",
    "from text_style import text_style\n",
    "ts = text_style()\n",
    "# a simple stdout logger\n",
    "from dev_log import dev_log\n",
    "logger = dev_log()\n",
    "# dataloading apparatus\n",
    "from network_design import network_design\n",
    "from visualize import plot_losses, plot_histograms, plot_histogram_2d, plot_errors, visualize_2d, visualize_3d"
   ]
  },
  {
   "cell_type": "code",
   "execution_count": 3,
   "metadata": {},
   "outputs": [
    {
     "data": {
      "text/plain": [
       "True"
      ]
     },
     "execution_count": 3,
     "metadata": {},
     "output_type": "execute_result"
    }
   ],
   "source": [
    "import torch\n",
    "import torch.nn as nn\n",
    "from torch.utils.data import Dataset\n",
    "from torch.utils.data import DataLoader\n",
    "torch.cuda.is_available()"
   ]
  },
  {
   "cell_type": "markdown",
   "metadata": {},
   "source": [
    "## Load data"
   ]
  },
  {
   "cell_type": "code",
   "execution_count": 5,
   "metadata": {},
   "outputs": [],
   "source": [
    "class dataset_toyzero(torch.utils.data.Dataset):\n",
    "    \"\"\"\n",
    "    LS4GAN dataset\n",
    "    \"\"\"\n",
    "    def __init__(\n",
    "        self, \n",
    "        paths, *,\n",
    "        clip=None,\n",
    "        batch_size=1, \n",
    "        valid_fraction=.2,\n",
    "        max_num=None,\n",
    "    ):\n",
    "        super(dataset_toyzero, self).__init__()    \n",
    "        \n",
    "        self.clip = clip\n",
    "        \n",
    "        self.image_fnames = []\n",
    "        for path in paths:\n",
    "            self.image_fnames += list(Path(path).glob('*npz'))\n",
    "        self.image_fnames = np.array(self.image_fnames)\n",
    "        \n",
    "        indices = np.arange(len(self.image_fnames))\n",
    "        np.random.shuffle(indices)\n",
    "        if max_num is not None:\n",
    "            indices = indices[:max_num]\n",
    "        valid_size = int(len(indices) * valid_fraction)\n",
    "        train_size = len(indices) - valid_size\n",
    "        indices_train = indices[:train_size]\n",
    "        indices_valid = indices[train_size:]\n",
    "        print(f'train example: {train_size} / {len(indices)}')\n",
    "        print(f'valid example: {valid_size} / {len(indices)}')\n",
    "\n",
    "        self.data_loaders = {}\n",
    "        for split, I in zip(['train', 'valid'], [indices_train, indices_valid]):\n",
    "            datum = np.array(list(map(self._load_file, self.image_fnames[I])))\n",
    "            loader = torch.utils.data.DataLoader(datum, batch_size=bsz, shuffle=True)\n",
    "            self.data_loaders[split] = loader\n",
    "    \n",
    "    def _load_file(self, fname):\n",
    "        datum = np.load(fname)\n",
    "        datum = datum[datum.files[0]]\n",
    "        if self.clip is not None:\n",
    "            datum = datum[:self.clip[0], :self.clip[1]]\n",
    "        mode = ss.mode(datum, axis=None)[0][0]\n",
    "        datum -= mode\n",
    "        return np.expand_dims(np.float32(datum), 0)\n",
    "    \n",
    "    def get_split(self, split):\n",
    "        return self.data_loaders[split]\n",
    "\n",
    "    def get_splits(self):\n",
    "        return self.data_loaders['train'], self.data_loaders['valid']"
   ]
  },
  {
   "cell_type": "code",
   "execution_count": 7,
   "metadata": {},
   "outputs": [
    {
     "name": "stdout",
     "output_type": "stream",
     "text": [
      "train example: 1200 / 2000\n",
      "valid example: 800 / 2000\n",
      "Number of batches:    \n",
      "\ttrain = 60    \n",
      "\tvalidation = 40\n"
     ]
    }
   ],
   "source": [
    "bsz = 20\n",
    "paths = [\n",
    "    Path(f'/sdcc/u/yhuang2/PROJs/GAN/datasets/ls4gan/toyzero_cropped/toyzero_2021-06-29_safi_U/trainA/'),\n",
    "    Path(f'/sdcc/u/yhuang2/PROJs/GAN/datasets/ls4gan/toyzero_cropped/toyzero_2021-06-29_safi_U/trainB/')\n",
    "]\n",
    "\n",
    "\n",
    "ds = dataset_toyzero(paths, clip=[128, 128], batch_size=bsz, valid_fraction=.4, max_num=2000)\n",
    "train_loader, valid_loader = ds.get_splits()\n",
    "print(f'Number of batches:\\\n",
    "    \\n\\ttrain = {len(train_loader)}\\\n",
    "    \\n\\tvalidation = {len(valid_loader)}')"
   ]
  },
  {
   "cell_type": "markdown",
   "metadata": {},
   "source": [
    "## Model Architecture\n",
    "Parameters Design and Trail Run"
   ]
  },
  {
   "cell_type": "code",
   "execution_count": 8,
   "metadata": {},
   "outputs": [
    {
     "name": "stdout",
     "output_type": "stream",
     "text": [
      "The autoreload extension is already loaded. To reload it, use:\n",
      "  %reload_ext autoreload\n"
     ]
    }
   ],
   "source": [
    "%load_ext autoreload\n",
    "%autoreload 2\n",
    "\n",
    "# Load model\n",
    "model_path = '/sdcc/u/yhuang2/PROJs/GAN/collisionGAN/models'\n",
    "assert Path(model_path).exists()\n",
    "if model_path not in sys.path:\n",
    "    sys.path.append(model_path)\n",
    "from CNNAE import CNNAE"
   ]
  },
  {
   "cell_type": "code",
   "execution_count": 20,
   "metadata": {},
   "outputs": [],
   "source": [
    "path_prefix = 'results/2021-07-20_14-12_cropped_twoheaded_4/'\n",
    "model_state_dict = torch.load(f'{path_prefix}/epoch-199.pt')"
   ]
  },
  {
   "cell_type": "code",
   "execution_count": 12,
   "metadata": {},
   "outputs": [],
   "source": [
    "def trial(model, input_shape, cuda=True, single=False):\n",
    "    x = torch.rand(1, 1, *input_shape, dtype=torch.float32)\n",
    "    if cuda:\n",
    "        model = model.cuda()\n",
    "        x = x.cuda()\n",
    "\n",
    "    logger.switch_debug(True)\n",
    "    if single:\n",
    "        y = model.forward(x)\n",
    "    else:\n",
    "        y_c, y_r = model.forward(x)\n",
    "    logger.switch_debug(False)\n",
    "    print(y_c.shape)\n",
    "    print(y_r.shape)\n",
    "\n",
    "    num_parameters_trainable = sum([p.numel() for p in model.parameters() if p.requires_grad])\n",
    "    num_parameters = sum([p.numel() for p in model.parameters()])\n",
    "    print(f'{ts.OKCYAN}Number of parameters:\\n\\tTrainable = {num_parameters_trainable}\\n\\tTotal = {num_parameters}{ts.ENDC}') "
   ]
  },
  {
   "cell_type": "code",
   "execution_count": 13,
   "metadata": {},
   "outputs": [
    {
     "name": "stderr",
     "output_type": "stream",
     "text": [
      "2021-07-22 15:30:57:DEBUG:output shape = torch.Size([1, 8, 8, 8])\n",
      "\n",
      "2021-07-22 15:30:57:DEBUG:compression ratio =  32.000\n"
     ]
    },
    {
     "name": "stdout",
     "output_type": "stream",
     "text": [
      "layer 1:\n",
      "\t[128 128] -> [64 64]                \n",
      "\t[127 127], output_padding=[1, 1]\n",
      "\n",
      "layer 2:\n",
      "\t[64 64] -> [32 32]                \n",
      "\t[63 63], output_padding=[1, 1]\n",
      "\n",
      "layer 3:\n",
      "\t[32 32] -> [16 16]                \n",
      "\t[31 31], output_padding=[1, 1]\n",
      "\n",
      "layer 4:\n",
      "\t[16 16] -> [8 8]                \n",
      "\t[15 15], output_padding=[1, 1]\n",
      "\n",
      "torch.Size([1, 1, 128, 128])\n",
      "torch.Size([1, 1, 128, 128])\n",
      "\u001b[0;96mNumber of parameters:\n",
      "\tTrainable = 3291594\n",
      "\tTotal = 3291594\u001b[0m\n"
     ]
    }
   ],
   "source": [
    "csz = [64, 128, 256, 256]\n",
    "oneOneConvCsz = 8\n",
    "rcsz = [8, 8, 4, 2]\n",
    "\n",
    "#input_shape = [800, 6000]\n",
    "input_shape = [128, 128]\n",
    "\n",
    "filters = [[3, 3], [3, 3], [3, 3], [3, 3]]\n",
    "strides = [[2, 2], [2, 2], [2, 2], [2, 2]]\n",
    "\n",
    "output_paddings = network_design().get_output_padding(input_shape, filters, strides)\n",
    "\n",
    "# Model initialization and trial\n",
    "model = CNNAE(\n",
    "    csz, rcsz, \n",
    "    filters, strides, output_paddings, \n",
    "    evaluation_mode=False, \n",
    "    oneOneConvCsz=oneOneConvCsz, \n",
    "    residual=True,\n",
    "    single=False,\n",
    "    linear=True\n",
    ")\n",
    "# model.load_state_dict(model_state_dict)\n",
    "trial(model, input_shape, single=False)"
   ]
  },
  {
   "cell_type": "markdown",
   "metadata": {},
   "source": [
    "## Train Parameters"
   ]
  },
  {
   "cell_type": "code",
   "execution_count": 14,
   "metadata": {
    "tags": []
   },
   "outputs": [],
   "source": [
    "model = CNNAE(\n",
    "    csz, rcsz, \n",
    "    filters, strides, output_paddings, \n",
    "    evaluation_mode=False, \n",
    "    oneOneConvCsz=oneOneConvCsz, \n",
    "    residual=True,\n",
    "    single=False,\n",
    "    linear=True,\n",
    ").cuda()\n",
    "\n",
    "lr_initial, ratio_initial = 0.001, 20\n",
    "ratio, epochs = ratio_initial, 200\n",
    "\n",
    "optimizer = torch.optim.AdamW(model.parameters(), lr=lr_initial)\n",
    "scheduler = torch.optim.lr_scheduler.ReduceLROnPlateau(optimizer, factor=0.8, patience=5)\n",
    "\n",
    "def get_lr(epoch, lr, rate=.95, every_num_epochs=20, minimum_lr=0.00001):\n",
    "    lr = lr * (rate ** (epoch // every_num_epochs))\n",
    "    if lr < minimum_lr:\n",
    "        lr = minimum_lr\n",
    "    return lr\n",
    "\n",
    "\n",
    "def loss_regression(input_regression, input_classification, target, weight_pow=0.5, threshold=.5):\n",
    "    input_combined = input_regression * (input_classification > threshold)\n",
    "    # weight = torch.pow(torch.abs(target), weight_pow)\n",
    "    # return torch.sum(torch.square(input_combined - target) * weight) / torch.sum(weight)\n",
    "    # return torch.mean(torch.square(input_combined - target))\n",
    "    return torch.mean(torch.abs(input_combined - target))\n",
    "\n",
    "    \n",
    "class SigmoidStep(nn.Module):\n",
    "    \"\"\"\n",
    "    SigmoidStep can also be used to implement a soft-classfication. \n",
    "    \"\"\"\n",
    "    def __init__(self, mu, alpha):\n",
    "        super(SigmoidStep, self).__init__()\n",
    "        self.mu, self.alpha = mu, alpha\n",
    "\n",
    "    def forward(self, x):\n",
    "        y = self.alpha * (x - self.mu)\n",
    "        return torch.sigmoid(y)\n",
    "\n",
    "    \n",
    "def loss_classification(input_classification, target, gamma=2, eps=1e-8):\n",
    "    step = SigmoidStep(.5, 20)\n",
    "    soft_label_target = step(torch.abs(target))\n",
    "    I = input_classification\n",
    "    J = 1 - input_classification\n",
    "    I, J = I + eps, J + eps\n",
    "    \n",
    "    focal_loss = soft_label_target * torch.log2(I) * torch.pow(J, gamma) + (1 - soft_label_target) * torch.log2(J) * torch.pow(I, gamma)    \n",
    "    return -torch.mean(focal_loss)"
   ]
  },
  {
   "cell_type": "markdown",
   "metadata": {},
   "source": [
    "## Training"
   ]
  },
  {
   "cell_type": "code",
   "execution_count": 65,
   "metadata": {},
   "outputs": [
    {
     "name": "stdout",
     "output_type": "stream",
     "text": [
      "Run name: 2021-07-20_15-44_cropped_twoheaded_cr-64\n"
     ]
    }
   ],
   "source": [
    "# We are going to use a timestamp for identifying saved run results.\n",
    "current_time = datetime.now().strftime(\"%Y-%m-%d_%H-%M\")\n",
    "brief_description = f'cropped_twoheaded_cr-64'\n",
    "run_name = current_time + '_' + brief_description\n",
    "print(f'Run name: {run_name}')\n",
    "path_prefix = f'/sdcc/u/yhuang2/PROJs/GAN/collisionGAN/compression/results/{run_name}/'\n",
    "Path(path_prefix).mkdir()"
   ]
  },
  {
   "cell_type": "code",
   "execution_count": null,
   "metadata": {
    "tags": []
   },
   "outputs": [],
   "source": [
    "metric = nn.MSELoss()\n",
    "train_losses, valid_losses = [], []\n",
    "MSEs = []\n",
    "for e in range(epochs):\n",
    "    # Adjust learning rate\n",
    "#     lr = get_lr(e, lr_initial)\n",
    "#     for g in optimizer.param_groups:\n",
    "#         g['lr'] = lr\n",
    "    \n",
    "    # training\n",
    "    for x in train_loader:\n",
    "        x = x.cuda()\n",
    "        y_c, y_r = model(x)\n",
    "        loss_c = loss_classification(y_c, x)\n",
    "        loss_r = loss_regression(y_r, y_c, x)\n",
    "        loss = loss_r +  ratio * loss_c\n",
    "        train_losses.append([loss_c.item(), loss_r.item(), loss.item()])\n",
    "        \n",
    "        # back-propagate\n",
    "        optimizer.zero_grad()\n",
    "        loss.backward()\n",
    "        optimizer.step()\n",
    "    \n",
    "    # validation\n",
    "    for x in valid_loader:\n",
    "        x = x.cuda()\n",
    "        y_c, y_r = model(x)        \n",
    "        val_loss_c = loss_classification(y_c, x)\n",
    "        val_loss_r = loss_regression(y_r, y_c, x)\n",
    "        val_loss = val_loss_r +  ratio * val_loss_c\n",
    "        \n",
    "        m = metric(y_r * (y_c > .5), x)\n",
    "        MSEs.append(m.item())\n",
    "        valid_losses.append([val_loss_c.item(), val_loss_r.item(), val_loss.item()])\n",
    "\n",
    "    train_loss_avg = np.mean(train_losses[-len(train_loader):], axis=0)\n",
    "    valid_loss_avg = np.mean(valid_losses[-len(valid_loader):], axis=0)\n",
    "    mse_avg = np.mean(MSEs[-len(valid_loader):])\n",
    "    \n",
    "    for param_group in optimizer.param_groups:\n",
    "        lr = param_group['lr']\n",
    "        break\n",
    "    \n",
    "    print(f'Epoch {e}: {lr: .6f}, {ratio:.6f}')\n",
    "    print(f'\\ttrain loss = {train_loss_avg[0]: .6f}, {train_loss_avg[1]: .6f}, {train_loss_avg[2]: .6f}')\n",
    "    print(f'\\tvalid loss = {valid_loss_avg[0]: .6f}, {valid_loss_avg[1]: .6f}, {valid_loss_avg[2]: .6f}, {mse_avg: .6f}\\n')\n",
    "    \n",
    "    ratio = train_loss_avg[1] / train_loss_avg[0]\n",
    "    scheduler.step(val_loss)\n",
    "    if e % 20 == 19:\n",
    "        torch.save(model.state_dict(), f'{path_prefix}/epoch-{e}.pt')"
   ]
  },
  {
   "cell_type": "markdown",
   "metadata": {},
   "source": [
    "## Peak memory use"
   ]
  },
  {
   "cell_type": "code",
   "execution_count": 67,
   "metadata": {},
   "outputs": [
    {
     "name": "stdout",
     "output_type": "stream",
     "text": [
      "1.7458992004394531\n",
      "1.7458992004394531\n"
     ]
    }
   ],
   "source": [
    "memory_all = torch.cuda.max_memory_allocated(device=None)\n",
    "memory_cuda = torch.cuda.max_memory_allocated(device='cuda')\n",
    "print(memory_all/1024 ** 3)\n",
    "print(memory_cuda/1024 ** 3)"
   ]
  },
  {
   "cell_type": "markdown",
   "metadata": {},
   "source": [
    "## Evaluation"
   ]
  },
  {
   "cell_type": "code",
   "execution_count": 68,
   "metadata": {},
   "outputs": [],
   "source": [
    "model_state_dict = model.state_dict()"
   ]
  },
  {
   "cell_type": "code",
   "execution_count": 15,
   "metadata": {},
   "outputs": [
    {
     "name": "stdout",
     "output_type": "stream",
     "text": [
      "Test loss with float32:\n",
      "\tmean = 0.009755, 0.067150\n",
      "\tstd = 0.002727, 0.007453\n"
     ]
    }
   ],
   "source": [
    "model = CNNAE(\n",
    "    csz, rcsz, \n",
    "    filters, strides, output_paddings, \n",
    "    evaluation_mode=False, \n",
    "    oneOneConvCsz=oneOneConvCsz, \n",
    "    residual=True,\n",
    "    single=False,\n",
    "    linear=True\n",
    ").cuda()\n",
    "model.load_state_dict(model_state_dict)\n",
    "model.eval()\n",
    "\n",
    "test_losses_float32 = []\n",
    "for x in valid_loader:\n",
    "    x = x.cuda()\n",
    "    y_c, y_r = model(x)\n",
    "    loss_c = loss_classification(y_c, x)\n",
    "    loss_r = loss_regression(y_r, y_c, x)\n",
    "    \n",
    "    test_losses_float32.append([loss_c.item(), loss_r.item()])\n",
    "\n",
    "tl_mean_float32, tl_std_float32 = np.mean(test_losses_float32, axis=0), np.std(test_losses_float32, axis=0)\n",
    "print(f'Test loss with float32:')\n",
    "print(f'\\tmean = {tl_mean_float32[0]:.6f}, {tl_mean_float32[1]:.6f}')\n",
    "print(f'\\tstd = {tl_std_float32[0]:.6f}, {tl_std_float32[1]:.6f}')"
   ]
  },
  {
   "cell_type": "markdown",
   "metadata": {},
   "source": [
    "### Evaluation with low-precision (float16) data"
   ]
  },
  {
   "cell_type": "code",
   "execution_count": 16,
   "metadata": {},
   "outputs": [
    {
     "name": "stdout",
     "output_type": "stream",
     "text": [
      "Test loss with float16:\n",
      "\tmean = 0.009542, 0.067135\n",
      "\tstd = 0.002387, 0.009882\n"
     ]
    }
   ],
   "source": [
    "model = CNNAE(\n",
    "    csz, rcsz, \n",
    "    filters, strides, output_paddings, \n",
    "    evaluation_mode=True, \n",
    "    oneOneConvCsz=oneOneConvCsz, \n",
    "    residual=True,\n",
    "    single=False,\n",
    "    linear=True\n",
    ").cuda()\n",
    "model.load_state_dict(model_state_dict)\n",
    "model.eval()\n",
    "\n",
    "test_losses_float16 = []\n",
    "for x in valid_loader:\n",
    "    x = x.cuda()\n",
    "    y_c, y_r = model(x)\n",
    "    y_c, y_r = y_c.type(torch.float32), y_r.type(torch.float32)\n",
    "    # Guarding values too close to 0 or 1 for the logarithmics\n",
    "    y_c[y_c == 0] = 1e-6\n",
    "    y_c[y_c == 1] = 1 - 1e-6\n",
    "    \n",
    "    loss_c = loss_classification(y_c, x)\n",
    "    loss_r = loss_regression(y_r, y_c, x)\n",
    "    \n",
    "    test_losses_float16.append([loss_c.item(), loss_r.item()])\n",
    "\n",
    "tl_mean_float16, tl_std_float16 = np.mean(test_losses_float16, axis=0), np.std(test_losses_float16, axis=0)\n",
    "print(f'Test loss with float16:')\n",
    "print(f'\\tmean = {tl_mean_float16[0]:.6f}, {tl_mean_float16[1]:.6f}')\n",
    "print(f'\\tstd = {tl_std_float16[0]:.6f}, {tl_std_float16[1]:.6f}')"
   ]
  },
  {
   "cell_type": "markdown",
   "metadata": {},
   "source": [
    "## Visualize"
   ]
  },
  {
   "cell_type": "code",
   "execution_count": 28,
   "metadata": {},
   "outputs": [
    {
     "data": {
      "image/png": "[encoded data removed]",
      "text/plain": [
       "<Figure size 712.8x855.36 with 16 Axes>"
      ]
     },
     "metadata": {
      "needs_background": "light"
     },
     "output_type": "display_data"
    }
   ],
   "source": [
    "threshold = .5\n",
    "X = next(iter(train_loader)).cuda()\n",
    "X = X[:4]\n",
    "with torch.no_grad():\n",
    "    Y_c, Y_r = model(X)\n",
    "    Y = Y_r * (Y_c > threshold)\n",
    "\n",
    "num_samples = len(X)\n",
    "width, ncols = 3.3, 3\n",
    "fig, axes = plt.subplots(\n",
    "    num_samples, ncols, \n",
    "    figsize=(width * ncols, width * num_samples * .9), \n",
    "    sharex=True, sharey=True)\n",
    "cmap = 'bwr'\n",
    "\n",
    "for x, y, ax_row in zip(X, Y, axes):\n",
    "    x = x.squeeze().cpu().detach().numpy()\n",
    "    y = y.squeeze().cpu().detach().numpy() \n",
    "    d = y - x\n",
    "\n",
    "    vmin = min(x.min(), y.min(), d.min())\n",
    "    vmax = max(x.max(), y.max(), d.max())\n",
    "    divnorm = mcolors.TwoSlopeNorm(vmin=vmin, vcenter=0., vmax=vmax)\n",
    "\n",
    "    ax = ax_row[0]\n",
    "    ax.set_aspect(1)\n",
    "    im = ax.pcolormesh(x, cmap=cmap, norm=divnorm)\n",
    "\n",
    "    ax = ax_row[1]\n",
    "    ax.set_aspect(1)\n",
    "    im = ax.pcolormesh(y, cmap=cmap, norm=divnorm)\n",
    "\n",
    "    ax = ax_row[2]\n",
    "    ax.set_aspect(1)\n",
    "    im = ax.pcolormesh(d, cmap=cmap, norm=divnorm)\n",
    "    divider = make_axes_locatable(ax)\n",
    "    cax = divider.append_axes('right', size='5%', pad=0.1)\n",
    "    fig.colorbar(im, cax=cax, orientation='vertical')\n",
    "plt.tight_layout()\n",
    "plt.savefig(f'{path_prefix}/visualization_train.png', dpi=600, transparent=True)"
   ]
  },
  {
   "cell_type": "code",
   "execution_count": null,
   "metadata": {},
   "outputs": [],
   "source": []
  }
 ],
 "metadata": {
  "kernelspec": {
   "display_name": "yi_test",
   "language": "python",
   "name": "yi_test"
  },
  "language_info": {
   "codemirror_mode": {
    "name": "ipython",
    "version": 3
   },
   "file_extension": ".py",
   "mimetype": "text/x-python",
   "name": "python",
   "nbconvert_exporter": "python",
   "pygments_lexer": "ipython3",
   "version": "3.9.1"
  },
  "metadata": {
   "interpreter": {
    "hash": "25098a70265af0b8578412a5b307e4ae9c363cffef9f6ff6568f08c655ae492b"
   }
  }
 },
 "nbformat": 4,
 "nbformat_minor": 4
}
